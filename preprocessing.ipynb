{
  "nbformat": 4,
  "nbformat_minor": 0,
  "metadata": {
    "colab": {
      "provenance": [],
      "mount_file_id": "1_t5EPErakbVs_ctBVE7npBgelu4_VBF0",
      "authorship_tag": "ABX9TyN4W05up7ML+JgK++UMz01n",
      "include_colab_link": true
    },
    "kernelspec": {
      "name": "python3",
      "display_name": "Python 3"
    },
    "language_info": {
      "name": "python"
    }
  },
  "cells": [
    {
      "cell_type": "markdown",
      "metadata": {
        "id": "view-in-github",
        "colab_type": "text"
      },
      "source": [
        "<a href=\"https://colab.research.google.com/github/sanikasanikachaudhari071/BE_project/blob/main/preprocessing.ipynb\" target=\"_parent\"><img src=\"https://colab.research.google.com/assets/colab-badge.svg\" alt=\"Open In Colab\"/></a>"
      ]
    },
    {
      "cell_type": "code",
      "execution_count": 2,
      "metadata": {
        "colab": {
          "base_uri": "https://localhost:8080/"
        },
        "id": "HJTVt_JfTyUL",
        "outputId": "f80ab8c2-8a99-40bb-9a27-0e22c62efffe"
      },
      "outputs": [
        {
          "output_type": "stream",
          "name": "stdout",
          "text": [
            "Collecting mtcnn\n",
            "  Downloading mtcnn-1.0.0-py3-none-any.whl.metadata (5.8 kB)\n",
            "Requirement already satisfied: opencv-python-headless in /usr/local/lib/python3.12/dist-packages (4.12.0.88)\n",
            "Requirement already satisfied: joblib>=1.4.2 in /usr/local/lib/python3.12/dist-packages (from mtcnn) (1.5.2)\n",
            "Collecting lz4>=4.3.3 (from mtcnn)\n",
            "  Downloading lz4-4.4.4-cp312-cp312-manylinux_2_17_x86_64.manylinux2014_x86_64.whl.metadata (3.8 kB)\n",
            "Requirement already satisfied: numpy<2.3.0,>=2 in /usr/local/lib/python3.12/dist-packages (from opencv-python-headless) (2.0.2)\n",
            "Downloading mtcnn-1.0.0-py3-none-any.whl (1.9 MB)\n",
            "\u001b[2K   \u001b[90m━━━━━━━━━━━━━━━━━━━━━━━━━━━━━━━━━━━━━━━━\u001b[0m \u001b[32m1.9/1.9 MB\u001b[0m \u001b[31m25.1 MB/s\u001b[0m eta \u001b[36m0:00:00\u001b[0m\n",
            "\u001b[?25hDownloading lz4-4.4.4-cp312-cp312-manylinux_2_17_x86_64.manylinux2014_x86_64.whl (1.3 MB)\n",
            "\u001b[2K   \u001b[90m━━━━━━━━━━━━━━━━━━━━━━━━━━━━━━━━━━━━━━━━\u001b[0m \u001b[32m1.3/1.3 MB\u001b[0m \u001b[31m49.5 MB/s\u001b[0m eta \u001b[36m0:00:00\u001b[0m\n",
            "\u001b[?25hInstalling collected packages: lz4, mtcnn\n",
            "Successfully installed lz4-4.4.4 mtcnn-1.0.0\n"
          ]
        }
      ],
      "source": [
        "# from google.colab import drive\n",
        "# drive.mount('/content/drive')\n",
        "\n",
        "!pip install mtcnn opencv-python-headless"
      ]
    },
    {
      "cell_type": "code",
      "source": [
        "import cv2\n",
        "import os\n",
        "from mtcnn.mtcnn import MTCNN\n",
        "import glob\n",
        "\n",
        "\n",
        "REAL_VIDEO_PATH = \"/content/drive/MyDrive/Celeb-DF/Celeb-real/*.mp4\"\n",
        "FAKE_VIDEO_PATH = \"/content/drive/MyDrive/Celeb-DF/Celeb-synthesis/*.mp4\"\n",
        "\n",
        "SAVE_DIR_REAL = \"/content/drive/MyDrive/processed_faces/real\"\n",
        "SAVE_DIR_FAKE = \"/content/drive/MyDrive/processed_faces/fake\"\n",
        "\n",
        "\n",
        "os.makedirs(SAVE_DIR_REAL, exist_ok=True)\n",
        "os.makedirs(SAVE_DIR_FAKE, exist_ok=True)\n",
        "\n",
        "detector = MTCNN()\n",
        "\n",
        "\n",
        "def process_and_save_faces(video_path_list, save_dir, frame_interval=10):\n",
        "    \"\"\"\n",
        "    Reads a list of video paths, detects faces, crops/resizes them,\n",
        "    and saves them as images in the save_dir.\n",
        "\n",
        "    frame_interval: Process only every 10th frame to save time.\n",
        "    \"\"\"\n",
        "    video_count = 0\n",
        "    for video_path in video_path_list:\n",
        "        video_count += 1\n",
        "        video_name = os.path.basename(video_path).split('.')[0]\n",
        "\n",
        "        cap = cv2.VideoCapture(video_path)\n",
        "        frame_num = 0\n",
        "        face_num = 0\n",
        "\n",
        "        while cap.isOpened():\n",
        "            ret, frame = cap.read()\n",
        "\n",
        "            if not ret:\n",
        "                break\n",
        "\n",
        "\n",
        "            if frame_num % frame_interval == 0:\n",
        "\n",
        "                frame_rgb = cv2.cvtColor(frame, cv2.COLOR_BGR2RGB)\n",
        "\n",
        "\n",
        "                detections = detector.detect_faces(frame_rgb)\n",
        "\n",
        "                for det in detections:\n",
        "\n",
        "                    if det['confidence'] > 0.95:\n",
        "                        x, y, w, h = det['box']\n",
        "\n",
        "\n",
        "                        x, y = abs(x), abs(y)\n",
        "\n",
        "\n",
        "                        face = frame[y : y + h, x : x + w]\n",
        "\n",
        "\n",
        "                        try:\n",
        "                            resized_face = cv2.resize(\n",
        "                                face,\n",
        "                                (224, 224),\n",
        "                                interpolation=cv2.INTER_AREA\n",
        "                            )\n",
        "\n",
        "\n",
        "                            face_num += 1\n",
        "                            save_path = os.path.join(\n",
        "                                save_dir,\n",
        "                                f\"{video_name}_frame{frame_num}_face{face_num}.jpg\"\n",
        "                            )\n",
        "                            cv2.imwrite(save_path, resized_face)\n",
        "\n",
        "                        except Exception as e:\n",
        "\n",
        "                            print(f\"Error resizing face from {video_name}: {e}\")\n",
        "\n",
        "            frame_num += 1\n",
        "\n",
        "        cap.release()\n",
        "        print(f\"Finished video {video_count}/{len(video_path_list)}: {video_name}. Found {face_num} faces.\")\n",
        "\n",
        "\n",
        "\n",
        "print(\"--- Processing REAL videos ---\")\n",
        "real_videos = glob.glob(REAL_VIDEO_PATH)\n",
        "process_and_save_faces(real_videos, SAVE_DIR_REAL, frame_interval=10)\n",
        "\n",
        "print(\"\\n--- Processing FAKE videos ---\")\n",
        "fake_videos = glob.glob(FAKE_VIDEO_PATH)\n",
        "process_and_save_faces(fake_videos, SAVE_DIR_FAKE, frame_interval=10)\n",
        "\n",
        "print(\"\\n--- PREPROCESSING COMPLETE ---\")"
      ],
      "metadata": {
        "id": "6Z3r4WySUce9"
      },
      "execution_count": null,
      "outputs": []
    }
  ]
}